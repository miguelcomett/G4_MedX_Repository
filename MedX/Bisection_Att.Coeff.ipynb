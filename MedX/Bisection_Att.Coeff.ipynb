{
 "cells": [
  {
   "cell_type": "markdown",
   "metadata": {},
   "source": [
    "# Bisection for Mass Attenuation Coefficient and Thickness Optimization"
   ]
  },
  {
   "cell_type": "markdown",
   "metadata": {},
   "source": [
    "### 1.1. Single Energy Bisection"
   ]
  },
  {
   "cell_type": "code",
   "execution_count": null,
   "metadata": {},
   "outputs": [],
   "source": [
    "import Bisection_Library as BisLib\n",
    "\n",
    "directory = 'BUILD/'\n",
    "\n",
    "mac_filename = 'Bisection.mac'\n",
    "root_filename = \"ROOT/root0.root\"\n",
    "\n",
    "tree_name = 'Transportation'\n",
    "branch_1 = 'Ratio'\n",
    "branch_2 = 'Mass_Attenuation'\n",
    "\n",
    "initial_energy = 10  # eV\n",
    "\n",
    "thickness = 1e-6\n",
    "thick_0 = thickness / 1e2  # mm \n",
    "thick_1 = thickness * 1e2  # mm\n",
    "\n",
    "tolerance = 30\n",
    "\n",
    "BisLib.SingleEnergyBisection(directory, mac_filename, root_filename, tree_name, branch_1, branch_2, initial_energy, thick_0, thick_1, tolerance)"
   ]
  },
  {
   "cell_type": "markdown",
   "metadata": {},
   "source": [
    "## 2. Multiple Energies Bisection"
   ]
  },
  {
   "cell_type": "markdown",
   "metadata": {},
   "source": [
    "###  2.1. Energies from NIST CSV"
   ]
  },
  {
   "cell_type": "code",
   "execution_count": null,
   "metadata": {},
   "outputs": [],
   "source": [
    "import Bisection_Library as BisLib\n",
    "\n",
    "directory = 'BUILD/'\n",
    "\n",
    "mac_filename = 'bisection.mac'\n",
    "root_filename = \"ROOT/root0.root\"\n",
    "outputcsv_name = 'CadTel_map.csv'\n",
    "\n",
    "tree_name = 'Transportation'\n",
    "branch_1 = 'Ratio'\n",
    "branch_2 = 'Mass_Attenuation'\n",
    "\n",
    "input_csv = 'CdTe_nist.csv'\n",
    "\n",
    "tolerance = 8\n",
    "\n",
    "BisLib.BisectionEnergiesNIST(directory, mac_filename, root_filename, outputcsv_name, tree_name, branch_1, branch_2, input_csv, tolerance)"
   ]
  },
  {
   "cell_type": "markdown",
   "metadata": {},
   "source": [
    "### 2.2. Fixed Energy Step"
   ]
  },
  {
   "cell_type": "code",
   "execution_count": 3,
   "metadata": {},
   "outputs": [
    {
     "name": "stderr",
     "output_type": "stream",
     "text": [
      "100%|██████████| 1/1 [00:03<00:00,  3.66s/it]\n"
     ]
    }
   ],
   "source": [
    "import Bisection_Library as BisLib\n",
    "\n",
    "directory = 'BUILD/'\n",
    "\n",
    "mac_filename = 'bisection.mac'\n",
    "root_filename = \"ROOT/root0.root\"\n",
    "outputcsv_name = 'aaaaaaaaaaaaaaaaaaaaaaa.csv'\n",
    "\n",
    "tree_name = 'Transportation'\n",
    "branch_1 = 'Ratio'\n",
    "branch_2 = 'Mass_Attenuation'\n",
    "\n",
    "initial_energy = 100000 # eV\n",
    "final_energy = 101000  # eV\n",
    "energy_step = 1000\n",
    "\n",
    "tolerance = 8\n",
    "\n",
    "BisLib.BisectionFixedEnergyStep(directory, mac_filename, root_filename, outputcsv_name, tree_name, \n",
    "         branch_1, branch_2, initial_energy, final_energy, energy_step, tolerance)"
   ]
  },
  {
   "cell_type": "markdown",
   "metadata": {},
   "source": [
    "## 3. Merge CSV's"
   ]
  },
  {
   "cell_type": "code",
   "execution_count": null,
   "metadata": {},
   "outputs": [],
   "source": [
    "import os\n",
    "\n",
    "def MergeCSV(directory, output_file):\n",
    "    first_file = True\n",
    "    # Sort the files in ascending order\n",
    "    sorted_filenames = sorted(os.listdir(directory))\n",
    "\n",
    "    # print(sorted_filenames)\n",
    "    \n",
    "    with open(output_file, 'w') as outfile:\n",
    "        for filename in sorted_filenames:\n",
    "            if filename.endswith('.csv') and filename != output_file:\n",
    "                with open(os.path.join(directory, filename), 'r') as file:\n",
    "                    if first_file:\n",
    "                        outfile.write(file.read())  # Write the content including the header\n",
    "                        first_file = False\n",
    "                    else:\n",
    "                        next(file)  # Skip the header\n",
    "                        outfile.write(file.read())  # Write the rest of the content\n",
    "                    outfile.write('\\n')\n",
    "\n",
    "directory = 'BUILD/ROOT'\n",
    "output_file = 'Bone_map.csv'\n",
    "\n",
    "MergeCSV(directory, output_file)"
   ]
  },
  {
   "cell_type": "markdown",
   "metadata": {},
   "source": [
    "## 4. Plot Results"
   ]
  },
  {
   "cell_type": "markdown",
   "metadata": {},
   "source": [
    "### 4.1. Plot Attenuation Coefficient vs NIST"
   ]
  },
  {
   "cell_type": "code",
   "execution_count": 1,
   "metadata": {},
   "outputs": [],
   "source": [
    "import pandas as pd\n",
    "import matplotlib.pyplot as plt\n",
    "import numpy as np\n",
    "import os\n",
    "import Bisection_Library as BisLib\n",
    "\n",
    "def Plot1_Coeff(directory, csv_1, x_branch_1, y_branch_1, csv_2, x_branch_2, y_branch_2, title, x_label, y_label):\n",
    "\n",
    "    path_1 = os.path.join(directory, csv_1)\n",
    "    path_2 = os.path.join(directory, csv_2)\n",
    "    \n",
    "    df_1 = pd.read_csv(path_1)\n",
    "    df_2 = pd.read_csv(path_2)\n",
    "\n",
    "    x1 = df_1[x_branch_1]\n",
    "    y1 = df_1[y_branch_1]\n",
    "\n",
    "    x2 = df_2[x_branch_2]\n",
    "    y2 = df_2[y_branch_2]\n",
    "\n",
    "    merged_df = pd.merge(df_1, df_2, on = 'Energy', suffixes = ('coeff_calc', 'coeff_real'))\n",
    "    merged_df['Percentage_Error'] = abs((merged_df[y_branch_1] - merged_df[y_branch_2]) / merged_df[y_branch_2]) * 100\n",
    "    global_percentage_error = merged_df['Percentage_Error'].mean()\n",
    "    # print(f\"Global Percentage Error: {global_percentage_error:.2f}%\")\n",
    "\n",
    "    merged_df = pd.merge(df_1, df_2, on='Energy', suffixes=('coeff_calc', 'coeff_real'))\n",
    "\n",
    "    threshold_value = 1 #kev\n",
    "\n",
    "    filtered_df = merged_df[merged_df['Energy'] > threshold_value].copy()\n",
    "    filtered_df.loc[:, 'Percentage_Error'] = abs((filtered_df[y_branch_1] - filtered_df[y_branch_2]) / filtered_df[y_branch_2]) * 100\n",
    "    percentage_error_filtered = filtered_df['Percentage_Error'].mean()\n",
    "    # print(f\"Percentage Error > {threshold_value} keV: {percentage_error_filtered:.2f}%\")\n",
    "\n",
    "    plt.figure(figsize=(10, 6))\n",
    "    BisLib.PlotsFormatting()\n",
    "    plt.grid(True, which='both', linestyle='--', linewidth=0.7)\n",
    "\n",
    "    plt.plot(x1, y1, marker = 'o', markersize = 2, label = 'Calculated', color = 'blue')\n",
    "    plt.plot(x2, y2, marker = 'x', markersize = 2, label = 'Real Data', color = 'red', alpha = 0.6)\n",
    "\n",
    "    plt.xscale('log')\n",
    "    plt.yscale('log')\n",
    "\n",
    "    # plt.xlim(.01, 1)\n",
    "    # plt.ylim(1000, 250000)\n",
    "\n",
    "    plt.xlabel(x_label, labelpad = 7)\n",
    "    plt.ylabel(y_label, labelpad = 8)\n",
    "    plt.title(title, pad = 14)\n",
    "    plt.legend()\n",
    "\n",
    "    plt.figtext(0.14, 0.2, f'Global Percentage Error: {global_percentage_error:.2f}%', \n",
    "                fontsize = 12, bbox = dict(facecolor = 'white', alpha = 0.5))\n",
    "    \n",
    "    plt.figtext(0.14, 0.139, f'Percentage Error > {threshold_value} keV: {percentage_error_filtered:.2f}%', \n",
    "                fontsize = 12, bbox = dict(facecolor = 'white', alpha = 0.5))\n",
    "    \n",
    "\n",
    "    plt.savefig(title + '_coeff' + '.png', dpi = 400)\n",
    "    plt.show()"
   ]
  },
  {
   "cell_type": "code",
   "execution_count": null,
   "metadata": {},
   "outputs": [],
   "source": [
    "directory = 'BUILD/ROOT/'\n",
    "\n",
    "csv_1 = 'CadTel_map.csv'\n",
    "x_branch_1 = \"Energy\"\n",
    "y_branch_1 = 'AtCoefficient'\n",
    "\n",
    "csv_2 = 'CdTe_nist.csv'\n",
    "x_branch_2 = \"Energy\"\n",
    "y_branch_2 = 'AtCoeff'\n",
    "\n",
    "title   = r\"Wolfram ($W, Z=74$)\"\n",
    "x_label = r\"Energy ($KeV$)\"\n",
    "y_label = r\"Mass Attenuation Coefficient ($cm^2/g$)\"\n",
    "\n",
    "Plot1_Coeff(directory, csv_1, x_branch_1, y_branch_1, csv_2, x_branch_2, y_branch_2, title, x_label, y_label)"
   ]
  },
  {
   "cell_type": "markdown",
   "metadata": {},
   "source": [
    "### 4.2. Plot Coefficient and Thickness vs. Energy"
   ]
  },
  {
   "cell_type": "code",
   "execution_count": 3,
   "metadata": {},
   "outputs": [],
   "source": [
    "import pandas as pd\n",
    "import matplotlib.pyplot as plt\n",
    "import numpy as np\n",
    "import os\n",
    "import Bisection_Library as BisLib\n",
    "\n",
    "def Plot_DoubleAxis(directory, csv_1, x_branch_1, y_branch_1, csv_2, x_branch_2, y_branch_2, title, x_label, y_label, save_as):\n",
    "\n",
    "    path_1 = os.path.join(directory, csv_1)\n",
    "    path_2 = os.path.join(directory, csv_2)\n",
    "    \n",
    "    df_1 = pd.read_csv(path_1)\n",
    "    df_1.columns = df_1.columns.str.strip()\n",
    "\n",
    "    df_2 = pd.read_csv(path_2)\n",
    "    df_2.columns = df_2.columns.str.strip()\n",
    "\n",
    "    x1 = df_1[x_branch_1]\n",
    "    y1 = df_1[y_branch_1]\n",
    "\n",
    "    x2 = df_2[x_branch_2]\n",
    "    y2 = df_2['Muscle']\n",
    "\n",
    "    x3 = df_1[x_branch_1]\n",
    "    y3 = df_1['Muscle']\n",
    "\n",
    "    # merged_df = pd.merge(df_1, df_2, on='Energy', suffixes=('coeff_calc', 'coeff_real'))\n",
    "    # merged_df['Percentage_Error'] = abs((merged_df[y_branch_1] - merged_df[y_branch_2]) / merged_df[y_branch_2]) * 100\n",
    "    # global_percentage_error = merged_df['Percentage_Error'].mean()\n",
    "\n",
    "    # threshold_value = 1  # keV\n",
    "\n",
    "    # filtered_df = merged_df[merged_df['Energy'] > threshold_value].copy()\n",
    "    # filtered_df.loc[:, 'Percentage_Error'] = abs((filtered_df[y_branch_1] - filtered_df[y_branch_2]) / filtered_df[y_branch_2]) * 100\n",
    "    # percentage_error_filtered = filtered_df['Percentage_Error'].mean()\n",
    "\n",
    "    fig, ax1 = plt.subplots(figsize = (10, 6))\n",
    "    BisLib.PlotsFormatting()\n",
    "    ax1.grid(True, which = 'both', linestyle = '--', linewidth = 0.7)\n",
    "    \n",
    "    ax1.plot(x1, y1,        marker = 'o', markersize = 2, label = 'Calculated Mass Attenuation Coefficient', color = 'blue')\n",
    "    ax1.plot(x3, y3 * 1e6,  marker = 'o', markersize = 1,                                   color = 'green', alpha = 0.01)\n",
    "    ax1.plot(x2, y2,        marker = 'x', markersize = 2, label = 'Real Data NIST',              color = 'red', alpha = 0.6)\n",
    "\n",
    "    ax2 = ax1.twinx()  \n",
    "    \n",
    "    ax2.plot(x2, y2,        marker = 'x', markersize = 2,                                                color = 'red',   alpha = 0.01)\n",
    "    ax2.plot(x3, y3 * 1e6,  marker = 'o', markersize = 1, label = 'Thickness = ln(1/2)/M.A.Coefficient', color = 'green', alpha= 0.5)\n",
    "\n",
    "    ax1.set_xscale('log')\n",
    "    ax1.set_yscale('log')\n",
    "    ax2.set_yscale('log') \n",
    "\n",
    "    ax1.set_xlabel(x_label,                labelpad = 7)\n",
    "    ax1.set_ylabel(y_label, fontsize = 14, labelpad = 8)\n",
    "    ax2.set_ylabel('nm',    fontsize = 16, labelpad = 8)  \n",
    "\n",
    "    ax1.set_title(title, pad = 14)\n",
    "    ax1.legend(loc = 'upper left')\n",
    "    ax2.legend(loc = 'upper right')\n",
    "\n",
    "    # fig.text(0.14, 0.2, f'Global Percentage Error: {global_percentage_error:.2f}%', \n",
    "    #          fontsize=12, bbox=dict(facecolor='white', alpha=0.5))\n",
    "    \n",
    "    # fig.text(0.14, 0.139, f'Percentage Error > {threshold_value} keV: {percentage_error_filtered:.2f}%', \n",
    "    #          fontsize=12, bbox=dict(facecolor='white', alpha=0.5))\n",
    "    \n",
    "    plt.savefig(save_as + '.png', dpi=400)\n",
    "    plt.show()\n",
    "\n",
    "    print('Plot saved as', save_as + '.png')"
   ]
  },
  {
   "cell_type": "code",
   "execution_count": null,
   "metadata": {},
   "outputs": [],
   "source": [
    "directory = '/Users/miguelcomett/geant4-v11.2.2/Estancia_G4/RESULTS/RADIOGRAFÍAS/MAC_data/'\n",
    "\n",
    "csv_1 = 'Cmtt_Tissues_Small.csv'\n",
    "x_branch_1 = \"Energy\"\n",
    "y_branch_1 = 'Muscle'\n",
    "\n",
    "csv_2 = 'Cmtt_Melbourne_AtCoeff.csv'\n",
    "x_branch_2 = \"Energy\"\n",
    "y_branch_2 = 'Skin'\n",
    "\n",
    "title = r\"hola\"\n",
    "x_label = r\"Energy ($KeV$)\"\n",
    "y_label = r\"($cm^2/g$)\"\n",
    "\n",
    "save_as = '?'\n",
    "\n",
    "Plot_DoubleAxis(directory, csv_1, x_branch_1, y_branch_1, csv_2, x_branch_2, y_branch_2, title, x_label, y_label, save_as)"
   ]
  }
 ],
 "metadata": {
  "kernelspec": {
   "display_name": ".venv",
   "language": "python",
   "name": "python3"
  },
  "language_info": {
   "codemirror_mode": {
    "name": "ipython",
    "version": 3
   },
   "file_extension": ".py",
   "mimetype": "text/x-python",
   "name": "python",
   "nbconvert_exporter": "python",
   "pygments_lexer": "ipython3",
   "version": "3.11.8"
  }
 },
 "nbformat": 4,
 "nbformat_minor": 2
}
