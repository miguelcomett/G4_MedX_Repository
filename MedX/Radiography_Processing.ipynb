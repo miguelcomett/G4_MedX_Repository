{
 "cells": [
  {
   "cell_type": "markdown",
   "metadata": {},
   "source": [
    "# MedX Engine, Radiography and Tomography Processing\n",
    "---"
   ]
  },
  {
   "cell_type": "markdown",
   "metadata": {},
   "source": [
    "## 0.0. Install Libraries "
   ]
  },
  {
   "cell_type": "code",
   "execution_count": null,
   "metadata": {},
   "outputs": [],
   "source": [
    "import Radiography_Library as RadLib\n",
    "RadLib.Install_Libraries()"
   ]
  },
  {
   "cell_type": "markdown",
   "metadata": {},
   "source": [
    "---"
   ]
  },
  {
   "cell_type": "markdown",
   "metadata": {},
   "source": [
    "## 0.1. Attenuation Coefficient Bisection Algorithm"
   ]
  },
  {
   "cell_type": "markdown",
   "metadata": {},
   "source": [
    "### 0.1.1. Fixed Energy Step"
   ]
  },
  {
   "cell_type": "code",
   "execution_count": null,
   "metadata": {},
   "outputs": [],
   "source": [
    "import Radiography_Library as RadLib\n",
    "\n",
    "threads = 10\n",
    "\n",
    "directory = ''\n",
    "\n",
    "root_filename = '.root'\n",
    "outputcsv_name = '.csv'\n",
    "\n",
    "root_structure = ['Transportation', 'Ratio', 'Mass_Attenuation'] # tree name, branch 1, branch 2\n",
    "\n",
    "energies = [100000, 101000, 1000] # initial energy, final energy, energy step (in eV)\n",
    "\n",
    "tolerance = 8\n",
    "\n",
    "RadLib.BisectionFixedEnergyStep(directory, threads, root_filename, outputcsv_name, root_structure, energies, tolerance)"
   ]
  },
  {
   "cell_type": "markdown",
   "metadata": {},
   "source": [
    "### 0.1.2. Energies from NIST CSV"
   ]
  },
  {
   "cell_type": "code",
   "execution_count": null,
   "metadata": {},
   "outputs": [],
   "source": [
    "import Radiography_Library as RadLib\n",
    "\n",
    "threads = 10\n",
    "\n",
    "directory = ''\n",
    "\n",
    "root_filename = \".root\"\n",
    "outputcsv_name = '.csv'\n",
    "\n",
    "root_structure = ['Transportation', 'Ratio', 'Mass_Attenuation'] # tree name, branch 1, branch 2\n",
    "\n",
    "input_csv = 'CdTe_nist.csv'\n",
    "\n",
    "tolerance = 8\n",
    "\n",
    "RadLib.BisectionEnergiesNIST(directory, threads, root_filename, outputcsv_name, root_structure, input_csv, tolerance)"
   ]
  },
  {
   "cell_type": "markdown",
   "metadata": {},
   "source": [
    "### 0.1.3. Plot Attenuation Results"
   ]
  },
  {
   "cell_type": "code",
   "execution_count": null,
   "metadata": {},
   "outputs": [],
   "source": [
    "import Radiography_Library as RadLib\n",
    "\n",
    "directory = 'BUILD/ROOT/'\n",
    "\n",
    "DATA = \\\n",
    "[\n",
    "{\"CSV\": \"CadTel_map.csv\", \"X\": \"Energy\", \"Y\": \"AtCoefficient\", \"LABEL\": \"CadTel\", \"MARKER\": \"o\", \"MARKERSIZE\": 1, \"COLOR\": \"red\", \"ALPHA\": 0.5},\n",
    "{\"CSV\": \"CdTe_nist.csv\",  \"X\": \"Energy\", \"Y\": \"AtCoeff\"      , \"LABEL\": \"NIST\",   \"MARKER\": \"o\", \"MARKERSIZE\": 1, \"COLOR\": \"red\", \"ALPHA\": 0.5},\n",
    "]\n",
    "\n",
    "title   = r\"Element ($$)\"\n",
    "x_label = r\"Energy ($keV$)\"\n",
    "y_label = r\"Mass Attenuation Coefficient ($cm^2/g$)\"\n",
    "\n",
    "X_axis_log = True\n",
    "Y_axis_log = True\n",
    "\n",
    "Figure_Text = None\n",
    "\n",
    "Font_Size_Normal = 16\n",
    "Font_Size_Large  = 20\n",
    "\n",
    "save_as = None  # '.png'\n",
    "\n",
    "RadLib.Plot_Att_Coeff(directory, DATA, title, x_label, y_label, X_axis_log, Y_axis_log, Figure_Text, Font_Size_Normal, Font_Size_Large, save_as)"
   ]
  },
  {
   "cell_type": "markdown",
   "metadata": {},
   "source": [
    "---"
   ]
  },
  {
   "cell_type": "markdown",
   "metadata": {},
   "source": [
    "## 1.1. Run Radiography"
   ]
  },
  {
   "cell_type": "code",
   "execution_count": null,
   "metadata": {},
   "outputs": [],
   "source": [
    "import Radiography_Library as RadLib\n",
    "\n",
    "threads  = 9\n",
    "energy   = 80      # keV\n",
    "sim_time = 10       # min\n",
    "iteration_time = 0 # min\n",
    "\n",
    "spectra_mode        = '80kvp' # 'mono (0)' or '80kvp (1) or '140kvp (2)'\n",
    "detector_parameters = {'nColumns': 1, 'nRows': 1}\n",
    "gun_parameters      = {'X': 0, 'Y': 0, 'gaussX': 'true', 'SpanX': 230, 'SpanY': 240}\n",
    "\n",
    "RadLib.RunRadiography(threads, energy, sim_time, iteration_time, spectra_mode, detector_parameters, gun_parameters, alarm=True)"
   ]
  },
  {
   "cell_type": "markdown",
   "metadata": {},
   "source": [
    "## 1.2. Run DEXA"
   ]
  },
  {
   "cell_type": "code",
   "execution_count": null,
   "metadata": {},
   "outputs": [],
   "source": [
    "import Radiography_Library as RadLib\n",
    "\n",
    "threads  = 10\n",
    "sim_time = 15      # min\n",
    "iteration_time = 00 # min\n",
    "\n",
    "spectra_mode = 'poly' # 'mono (0)' or 'poly (1)'\n",
    "\n",
    "RadLib.RunDEXA(threads, sim_time, iteration_time, spectra_mode, detector_parameters=None, gun_parameters=None, alarm=True)"
   ]
  },
  {
   "cell_type": "markdown",
   "metadata": {},
   "source": [
    "## 1.3. Merge Root Files"
   ]
  },
  {
   "cell_type": "code",
   "execution_count": null,
   "metadata": {},
   "outputs": [],
   "source": [
    "import Radiography_Library as RadLib\n",
    "\n",
    "directory = 'BUILD/ROOT/'\n",
    "directory = '/Users/miguelcomett/GEANT4/G4_MedX'\n",
    "\n",
    "starts_with = 'Rad_40'\n",
    "starts_with = 'Rad_80'\n",
    "starts_with = 'Poly_140kvp'\n",
    "starts_with = 'Poly_80kvp'\n",
    "\n",
    "output_name = starts_with\n",
    "\n",
    "# trim_coords = (-200, 200, -200, 200)  # x_min, x_max, y_min, y_max. (slower method)\n",
    "trim_coords = None\n",
    "\n",
    "RadLib.Merge_Roots_HADD(directory, starts_with, output_name, trim_coords) "
   ]
  },
  {
   "cell_type": "markdown",
   "metadata": {},
   "source": [
    "## 1.4. Get ROOT Summary Data & Histograms "
   ]
  },
  {
   "cell_type": "code",
   "execution_count": null,
   "metadata": {},
   "outputs": [],
   "source": [
    "import Radiography_Library as RadLib\n",
    "\n",
    "directory = 'BUILD/ROOT/'\n",
    "directory = '/Users/miguelcomett/GEANT4/G4_MedX/'\n",
    "\n",
    "root_file = 'Rad_40'\n",
    "root_file = 'Rad_80'\n",
    "root_file = 'Poly_80kvp.root'\n",
    "root_file = 'Poly_140kvp.root'\n",
    "\n",
    "hits_tree    = 'Hits';               hits_branches    = ['x_ax', 'y_ax']\n",
    "summary_tree = 'Run Summary';        summary_branches = ['Number_of_Photons', 'Sample_Mass_kg', 'EDep_Value_TeV', 'Radiation_Dose_uSv']\n",
    "spectra_tree = 'Energy Spectra keV'; spectra_branches = ['Energies', 'Counts']\n",
    "\n",
    "RadLib.Summary_Data(directory, root_file, hits_tree, hits_branches, summary_tree, summary_branches, spectra_tree, spectra_branches)\n",
    "\n",
    "range_x = [-250, 250, 1000] # range_min, range_max, bins (mm) \n",
    "range_y = [-250, 250, 1000] # range_min, range_max, bins (mm)\n",
    "range_spectra = [0, 150, 300] # range_min, range_max, bins (keV)\n",
    "\n",
    "RadLib.XY_1D_Histogram(directory, root_file, hits_tree, hits_branches, spectra_tree, spectra_branches, range_x, range_y, range_spectra)"
   ]
  },
  {
   "cell_type": "markdown",
   "metadata": {},
   "source": [
    "---"
   ]
  },
  {
   "cell_type": "markdown",
   "metadata": {},
   "source": [
    "## 2. Root File to Heatmap"
   ]
  },
  {
   "cell_type": "code",
   "execution_count": null,
   "metadata": {},
   "outputs": [],
   "source": [
    "import Radiography_Library as RadLib\n",
    "\n",
    "directory = '/Users/miguelcomett/GEANT4/G4_MedX/'\n",
    "directory = 'BUILD/ROOT/'\n",
    "\n",
    "root_file = 'Rad_40.root'\n",
    "root_file = 'Rad_80.root'\n",
    "root_file = 'Poly_80kvp.root'\n",
    "root_file = 'Poly_140kvp.root'\n",
    "\n",
    "tree_name = \"Hits\"; x_branch  = \"x_ax\"; y_branch  = \"y_ax\"\n",
    "size = [230, 240, 0, 0] # size_x, size_y, x_shift, y_shift, \n",
    "pixel_size = 1 # mm\n",
    "\n",
    "heatmap_raw, xlim, ylim = RadLib.Root_to_Heatmap(directory, root_file, tree_name, x_branch, y_branch, size, pixel_size, progress_bar=True)\n",
    "heatmap = RadLib.Logarithmic_Transform(heatmap_raw)\n",
    "RadLib.Plot_Heatmap(heatmap, save_as='')\n",
    "# RadLib.Plot_Plotly(heatmap, xlim, ylim) # show interactive plot"
   ]
  },
  {
   "cell_type": "markdown",
   "metadata": {},
   "source": [
    "---"
   ]
  },
  {
   "cell_type": "markdown",
   "metadata": {},
   "source": [
    "## 3. DEXA: Tissue Segmentation"
   ]
  },
  {
   "cell_type": "markdown",
   "metadata": {},
   "source": [
    "### Calculate Heatmaps"
   ]
  },
  {
   "cell_type": "code",
   "execution_count": null,
   "metadata": {},
   "outputs": [],
   "source": [
    "import Radiography_Library as RadLib\n",
    "\n",
    "directory = 'BUILD/ROOT/'\n",
    "directory = '/Users/miguelcomett/GEANT4/G4_MedX/'\n",
    "\n",
    "rootnames = [\"Rad_40.root\", \"Rad_80.root\"]\n",
    "rootnames = ['Poly_80kvp.root', 'Poly_140kvp.root']\n",
    "\n",
    "tree_name = \"Hits\"; x_branch  = \"x_ax\"; y_branch  = \"y_ax\"\n",
    "\n",
    "size = [240, 240, 0, 0]\n",
    "\n",
    "pixel_size = 0.5\n",
    "\n",
    "low_energy_img, xlim, ylim  = RadLib.Root_to_Heatmap(directory, rootnames[0], tree_name, x_branch, y_branch, size, pixel_size, progress_bar=True)\n",
    "high_energy_img, xlim, ylim = RadLib.Root_to_Heatmap(directory, rootnames[1], tree_name, x_branch, y_branch, size, pixel_size, progress_bar=True)\n",
    "low_energy_img  = RadLib.Logarithmic_Transform(low_energy_img)\n",
    "high_energy_img = RadLib.Logarithmic_Transform(high_energy_img)"
   ]
  },
  {
   "cell_type": "markdown",
   "metadata": {},
   "source": [
    "### Save heatmaps as CSV"
   ]
  },
  {
   "cell_type": "code",
   "execution_count": 2,
   "metadata": {},
   "outputs": [],
   "source": [
    "import Radiography_Library as RadLib\n",
    "\n",
    "read_folder = '/Users/miguelcomett/GEANT4/G4_MedX/'\n",
    "\n",
    "RadLib.Save_Heatmap_to_CSV(low_energy_img,  read_folder, '40kev_Projection2')\n",
    "RadLib.Save_Heatmap_to_CSV(high_energy_img, read_folder, '80kev_Projection2')"
   ]
  },
  {
   "cell_type": "markdown",
   "metadata": {},
   "source": [
    "### Read heatmap's CSV"
   ]
  },
  {
   "cell_type": "code",
   "execution_count": 4,
   "metadata": {},
   "outputs": [],
   "source": [
    "import Radiography_Library as RadLib\n",
    "\n",
    "read_folder = '/Users/miguelcomett/GEANT4/G4_MedX/'\n",
    "\n",
    "low_energy_img  = RadLib.Read_Heatmap_from_CSV(read_folder, '40kev_Projection')\n",
    "high_energy_img = RadLib.Read_Heatmap_from_CSV(read_folder, '80kev_Projection')"
   ]
  },
  {
   "cell_type": "markdown",
   "metadata": {},
   "source": [
    "### Perform Segmentation"
   ]
  },
  {
   "cell_type": "code",
   "execution_count": null,
   "metadata": {},
   "outputs": [],
   "source": [
    "import Radiography_Library as RadLib\n",
    "\n",
    "sigma = 0\n",
    "wn = 0\n",
    "\n",
    "save_as = ['', '', '', '', '', '', '', ''] # Low Energy, High Energy, Bone [SLS], Tissue [SLS], Bone [SSH], Tissue [SSH], Bone [ACNR], Tissue [ACNR]\n",
    "\n",
    "SLS_Bone, SLS_Tissue, SSH_Bone, SSH_Tissue, ACNR_Bone, ACNR_Tissue = RadLib.IsolateTissues(low_energy_img, high_energy_img, sigma, sigma, wn, '', save_as, save_all='')"
   ]
  },
  {
   "cell_type": "markdown",
   "metadata": {},
   "source": [
    "---"
   ]
  },
  {
   "cell_type": "markdown",
   "metadata": {},
   "source": [
    "## 4. Bone Mineral Density (BMD)"
   ]
  },
  {
   "cell_type": "code",
   "execution_count": null,
   "metadata": {},
   "outputs": [],
   "source": [
    "import Radiography_Library as RadLib\n",
    "\n",
    "thickness_bone, thickness_tissue = RadLib.BMO(SLS_Bone, SLS_Tissue)\n",
    "RadLib.Plot_Heatmap(heatmap, '')\n",
    "RadLib.Plot_Plotly(thickness_bone, xlim, ylim)"
   ]
  },
  {
   "cell_type": "markdown",
   "metadata": {},
   "source": [
    "---"
   ]
  },
  {
   "cell_type": "markdown",
   "metadata": {},
   "source": [
    "## 5.1. Calculate Interactive CNR"
   ]
  },
  {
   "cell_type": "markdown",
   "metadata": {},
   "source": [
    "#### Trim Image"
   ]
  },
  {
   "cell_type": "code",
   "execution_count": null,
   "metadata": {},
   "outputs": [],
   "source": [
    "from PIL import Image; import matplotlib.pyplot as plt\n",
    "\n",
    "directory = 'RESULTS/'\n",
    "image = 'ssh' + '.png'\n",
    "image = Image.open(directory + image)\n",
    "image = image.convert('L')\n",
    "\n",
    "print(image.size)\n",
    "width = image.width; height = image.height\n",
    "\n",
    "trim = 200\n",
    "# image = image.crop((trim, trim, width - trim, height - trim)) # left, top, right, bottom\n",
    "# image = image.crop((8410, trim, width - 60, height - trim))\n",
    "\n",
    "# plt.imshow(image, cmap='gray'); plt.axis('off'); plt.show()"
   ]
  },
  {
   "cell_type": "markdown",
   "metadata": {},
   "source": [
    "#### Launch Interactive CNR"
   ]
  },
  {
   "cell_type": "code",
   "execution_count": null,
   "metadata": {},
   "outputs": [],
   "source": [
    "%matplotlib widget \n",
    "%matplotlib tk\n",
    "import Radiography_Library as RadLib\n",
    "\n",
    "RadLib.Interactive_CNR(image)"
   ]
  },
  {
   "cell_type": "markdown",
   "metadata": {},
   "source": [
    "## 5.2. Calculate Fixed CNR "
   ]
  },
  {
   "cell_type": "code",
   "execution_count": null,
   "metadata": {},
   "outputs": [],
   "source": [
    "import Radiography_Library as RadLib\n",
    "\n",
    "image_path = \"RESULTS/\" + \"a\" + \".png\"\n",
    "save_as = ''\n",
    "\n",
    "shftx_s = 0.0 # shift x-coordinate signal box\n",
    "shfty_s = 0.0 \n",
    "shftx_b = 200.0 # shift x-coordinate background box\n",
    "shfty_b = 0.0\n",
    "\n",
    "coords_signal  = [1200 + shftx_s, 1000 + shfty_s, 1800 + shftx_s, 1800 + shfty_s] # x1, y1, x2, y2\n",
    "coords_bckgrnd = [2100 + shftx_b, 1000 + shfty_b, 2300 + shftx_b, 1800 + shfty_b] # x1, y1, x2, y2\n",
    "\n",
    "RadLib.Fixed_CNR(image_path, save_as, coords_signal, coords_bckgrnd)"
   ]
  },
  {
   "cell_type": "markdown",
   "metadata": {},
   "source": [
    "---"
   ]
  },
  {
   "cell_type": "markdown",
   "metadata": {},
   "source": [
    "## 6.1. Denoise with Skimage.Denoise_Bilateral"
   ]
  },
  {
   "cell_type": "code",
   "execution_count": null,
   "metadata": {},
   "outputs": [],
   "source": [
    "import Radiography_Library as RadLib\n",
    "\n",
    "# load array\n",
    "path = SSH_Bone\n",
    "isArray = True\n",
    "\n",
    "# or load image\n",
    "if isArray == False:\n",
    "    directory = 'RESULTS/'\n",
    "    path = directory + 'a' + '.png'\n",
    "\n",
    "sigma_color = 0.05\n",
    "sigma_spatial = 20\n",
    "\n",
    "Denoised_Image = RadLib.Denoise_EdgeDetection(path, isArray)"
   ]
  },
  {
   "cell_type": "markdown",
   "metadata": {},
   "source": [
    "## 6.2. Denoise by Fourier Transform"
   ]
  },
  {
   "cell_type": "code",
   "execution_count": null,
   "metadata": {},
   "outputs": [],
   "source": [
    "import Radiography_Library as RadLib\n",
    "\n",
    "array = heatmap\n",
    "isHann = False\n",
    "\n",
    "alpha = 1\n",
    "\n",
    "save_as = ''\n",
    "isCrossSection = False # plot crosss-section\n",
    "\n",
    "fft_image = RadLib.Denoise(array, isHann, alpha, save_as, isCrossSection)"
   ]
  },
  {
   "cell_type": "markdown",
   "metadata": {},
   "source": [
    "---"
   ]
  },
  {
   "cell_type": "markdown",
   "metadata": {},
   "source": [
    "## 7. Save Plotly Heatmap"
   ]
  },
  {
   "cell_type": "code",
   "execution_count": null,
   "metadata": {},
   "outputs": [],
   "source": [
    "import Radiography_Library as RadLib\n",
    "\n",
    "# array = htmp_array\n",
    "# array = Denoised_Image\n",
    "array = ACNR_Bone\n",
    "array = low_energy_img\n",
    "\n",
    "title   = r\"$ \\large{ \\text{Thorax Radiography Projection(40 keV)} } $\"\n",
    "x_label = r\"$ \\large{ \\text{X Axis} \\ (mm)} $\"\n",
    "y_label = r\"$ \\large{ \\text{Y Axis} \\ (mm)} $\"\n",
    "\n",
    "width  = 800\n",
    "height = 800\n",
    "\n",
    "save_as = ''\n",
    "\n",
    "RadLib.Plotly_Heatmap_1(array, xlim, ylim, title, x_label, y_label, width, height, save_as)"
   ]
  },
  {
   "cell_type": "markdown",
   "metadata": {},
   "source": [
    "#### Plot with annotation and rectangles"
   ]
  },
  {
   "cell_type": "code",
   "execution_count": null,
   "metadata": {},
   "outputs": [],
   "source": [
    "import Radiography_Library as RadLib\n",
    "\n",
    "array = heatmap\n",
    "\n",
    "title   = r\"$ \\large{ \\text{Low energy projection (40 keV), 100M Photons} } $\"\n",
    "x_label = r\"$ \\large{ \\text{X Axis} \\ (mm)} $\"\n",
    "y_label = r\"$ \\large{ \\text{Y Axis} \\ (mm)} $\"\n",
    "\n",
    "sqr_1_coords = [10, 10, -10, -10]\n",
    "sqr_2_coords = [10, 10, -10, -10]\n",
    "\n",
    "annotation = 'CNR = ' \n",
    "\n",
    "width  = 700\n",
    "height = 700\n",
    "\n",
    "save_as = ''\n",
    "\n",
    "RadLib.Plotly_Heatmap_2(array, xlim, ylim, title, x_label, y_label, sqr_1_coords, sqr_2_coords, annotation, width, height, save_as)"
   ]
  },
  {
   "cell_type": "markdown",
   "metadata": {},
   "source": [
    "---"
   ]
  },
  {
   "cell_type": "markdown",
   "metadata": {},
   "source": [
    "# 8. CT Scan"
   ]
  },
  {
   "cell_type": "markdown",
   "metadata": {},
   "source": [
    "## 8.1 Run CT loop"
   ]
  },
  {
   "cell_type": "code",
   "execution_count": null,
   "metadata": {},
   "outputs": [],
   "source": [
    "import Radiography_Library as RadLib\n",
    "\n",
    "threads = 10\n",
    "starts_with = 'CT'\n",
    "\n",
    "angles = [341, 360]\n",
    "slices = [-240, 240, 8] # negative_y, positive y, step. in mm\n",
    "\n",
    "RadLib.CT_Loop(threads, starts_with, angles, slices, alarm=False)"
   ]
  },
  {
   "cell_type": "markdown",
   "metadata": {},
   "source": [
    "## 8.2. CT Summary"
   ]
  },
  {
   "cell_type": "code",
   "execution_count": null,
   "metadata": {},
   "outputs": [],
   "source": [
    "import Radiography_Library as RadLib\n",
    "\n",
    "directory = '/Users/miguelcomett/GEANT4/G4_MedX/CT/Roots'\n",
    "\n",
    "summary_tree = 'Run Summary';         summary_branches = ['Number_of_Photons', 'EDep_Value_TeV', 'Radiation_Dose_uSv']\n",
    "spectra_tree = 'Energy Spectra keV';  spectra_branches = ['Energies', 'Counts']\n",
    "spectra_tree = None\n",
    "\n",
    "RadLib.CT_Summary_Data(directory, summary_tree, summary_branches, spectra_tree, spectra_branches)"
   ]
  },
  {
   "cell_type": "markdown",
   "metadata": {},
   "source": [
    "## 8.3. Calculate projections at every angle from roots and save to CSV"
   ]
  },
  {
   "cell_type": "code",
   "execution_count": null,
   "metadata": {},
   "outputs": [],
   "source": [
    "import Radiography_Library as RadLib\n",
    "\n",
    "directory = '/Users/miguelcomett/GEANT4/G4_MedX/CT/Roots/'\n",
    "csv_folder = '/Users/miguelcomett/GEANT4/G4_MedX/CT/Raw_CSV3/'\n",
    "\n",
    "filename = 'Aang'\n",
    "degrees = [0, 1, 1] # start, end, step\n",
    "root_structure = [\"Hits\", \"x_ax\", \"y_ax\"] # tree_name, x_branch, y_branch\n",
    "\n",
    "dimensions = [240, 240, 0, 0] # sizeX, sizeY, shiftX, shiftY. (in mm)\n",
    "pixel_size = 2 # mm\n",
    "\n",
    "raw_heatmap = RadLib.Calculate_Projections(directory, filename, degrees, root_structure, dimensions, pixel_size, csv_folder)"
   ]
  },
  {
   "cell_type": "markdown",
   "metadata": {},
   "source": [
    "## 8.4. Load projections from CSV and perfrom CT reconstruction"
   ]
  },
  {
   "cell_type": "code",
   "execution_count": null,
   "metadata": {},
   "outputs": [],
   "source": [
    "import Radiography_Library as RadLib\n",
    "\n",
    "csv_read  = '/Users/miguelcomett/GEANT4/G4_MedX/CT/Raw_CSV2/'\n",
    "csv_write = '/Users/miguelcomett/GEANT4/G4_MedX/CT/Slices/'\n",
    "\n",
    "sigma = 0.55\n",
    "\n",
    "degrees = [0, 359, 1] # start, end, step\n",
    "\n",
    "slices_in  = [-240, 240, 8] # initial, final, step (in mm)\n",
    "slices_out = [0, 60, 1]     # initial, final, step (index)\n",
    " \n",
    "heatmap_matrix, sinogram_matrix, slices_matrix = RadLib.RadonReconstruction(csv_read, csv_write, degrees, slices_in, slices_out, sigma)"
   ]
  },
  {
   "cell_type": "code",
   "execution_count": null,
   "metadata": {},
   "outputs": [],
   "source": [
    "RadLib.Plotly_CT(heatmap_matrix, sinogram_matrix, slices_matrix, slice=30)"
   ]
  },
  {
   "cell_type": "code",
   "execution_count": null,
   "metadata": {},
   "outputs": [],
   "source": [
    "RadLib.MatPlotLib_CT(heatmap_matrix, sinogram_matrix, slices_matrix, step=6)"
   ]
  },
  {
   "cell_type": "markdown",
   "metadata": {},
   "source": [
    "## 8.5. Export to DICOM"
   ]
  },
  {
   "cell_type": "code",
   "execution_count": null,
   "metadata": {},
   "outputs": [],
   "source": [
    "import Radiography_Library as RadLib\n",
    "\n",
    "csv_slices = '/Users/miguelcomett/GEANT4/G4_MedX/CT/Slices/'\n",
    "\n",
    "mu_water = 0.26748 # 40kev\n",
    "mu_water = 0.18443 # 80kev\n",
    "air_tolerance = -950\n",
    "\n",
    "HU_images = RadLib.CoefficientstoHU(csv_slices, mu_water, air_tolerance)\n",
    "\n",
    "\n",
    "directory = '/Users/miguelcomett/GEANT4/G4_MedX/CT/DICOMs'\n",
    "size_y = 480 # height of sample in mm\n",
    "compressed = False\n",
    "\n",
    "RadLib.Export_to_Dicom(HU_images, size_y, directory, compressed)"
   ]
  },
  {
   "cell_type": "code",
   "execution_count": null,
   "metadata": {},
   "outputs": [],
   "source": [
    "RadLib.Plot_Heatmap(HU_images[0], save_as='')"
   ]
  }
 ],
 "metadata": {
  "kernelspec": {
   "display_name": ".venv",
   "language": "python",
   "name": "python3"
  },
  "language_info": {
   "codemirror_mode": {
    "name": "ipython",
    "version": 3
   },
   "file_extension": ".py",
   "mimetype": "text/x-python",
   "name": "python",
   "nbconvert_exporter": "python",
   "pygments_lexer": "ipython3",
   "version": "3.12.7"
  }
 },
 "nbformat": 4,
 "nbformat_minor": 2
}
