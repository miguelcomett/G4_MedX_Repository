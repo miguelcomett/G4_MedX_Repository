{
 "cells": [
  {
   "cell_type": "markdown",
   "metadata": {},
   "source": [
    "## 1.1. Run Radiography"
   ]
  },
  {
   "cell_type": "code",
   "execution_count": null,
   "metadata": {},
   "outputs": [],
   "source": [
    "import Radiography_Library as RadLib; import platform\n",
    "\n",
    "if platform.system() == \"Darwin\": directory = 'BUILD/'\n",
    "if platform.system() == \"Windows\": directory = 'build\\\\Release\\\\'\n",
    "\n",
    "threads = 10\n",
    "energy = 80 # keV\n",
    "sim_time = 60 # min\n",
    "iteration_time = 30 # min\n",
    "\n",
    "RadLib.RunRadiography(directory, threads, energy, sim_time, iteration_time)\n",
    "if platform.system() == \"Darwin\": RadLib.PlayAlarm()"
   ]
  },
  {
   "cell_type": "markdown",
   "metadata": {},
   "source": [
    "## 1.2. Run DEXA"
   ]
  },
  {
   "cell_type": "code",
   "execution_count": null,
   "metadata": {},
   "outputs": [],
   "source": [
    "import Radiography_Library as RadLib; import platform\n",
    "\n",
    "if platform.system() == \"Darwin\": directory = 'BUILD/'\n",
    "if platform.system() == \"Windows\": directory = 'build\\\\Release\\\\'\n",
    "\n",
    "threads = 10\n",
    "sim_time = 10*60 # min\n",
    "iteration_time = 30 # min\n",
    "\n",
    "RadLib.RunDEXA(directory, threads, sim_time, iteration_time)\n",
    "# if platform.system() == \"Darwin\": RadLib.PlayAlarm()"
   ]
  },
  {
   "cell_type": "markdown",
   "metadata": {},
   "source": [
    "## 1.3. Merge Root Files"
   ]
  },
  {
   "cell_type": "code",
   "execution_count": null,
   "metadata": {},
   "outputs": [],
   "source": [
    "import Radiography_Library as RadLib; import platform\n",
    "\n",
    "directory = '/Users/miguelcomett/geant4-v11.2.2_2/ESTANCIA' + '/'\n",
    "directory = 'BUILD/ROOT/'\n",
    "\n",
    "starts_with = 'Rad_80'\n",
    "output_name = 'Rad_80'\n",
    "\n",
    "# trim_coords = (-250, 250, -270, 230)  # x_min, x_max, y_min, y_max\n",
    "trim_coords = None\n",
    "\n",
    "RadLib.MergeRoots_Parallel(directory, starts_with, output_name, trim_coords) \n",
    "# if platform.system() == \"Darwin\": RadLib.PlayAlarm()"
   ]
  },
  {
   "cell_type": "markdown",
   "metadata": {},
   "source": [
    "## 1.4. Get ROOT Summary Data & Histograms "
   ]
  },
  {
   "cell_type": "code",
   "execution_count": null,
   "metadata": {},
   "outputs": [],
   "source": [
    "import Radiography_Library as RadLib\n",
    "\n",
    "directory = 'BUILD/ROOT/'\n",
    "directory = '/Users/miguelcomett/GEANT4/G4_MedX/'\n",
    "\n",
    "root_file = 'Rad_40' + '.root'\n",
    "root_file = 'thorax_40_2285.root'\n",
    "\n",
    "data_tree = 'Hits'; data_branch_x = 'x_ax'; data_branch_y = 'y_ax'\n",
    "summary_tree = 'Run Summary'; sumarry_branches = ['Number_of_Photons', 'EDep_Value_TeV', 'Radiation_Dose_uSv']\n",
    "\n",
    "NumberofHits, NumberofPhotons, EnergyDeposition, RadiationDose = RadLib.Summary_Data(directory, root_file, data_tree, data_branch_x, summary_tree, sumarry_branches)\n",
    "\n",
    "range_x = [-250, 250, 100] # range_min, range_max, bins (mm) \n",
    "range_y = [-280, 280, 100] # range_min, range_max, bins (mm)\n",
    "\n",
    "RadLib.XY_1D_Histogram(directory, root_file, data_tree, data_branch_x, data_branch_y, range_x, range_y)"
   ]
  },
  {
   "cell_type": "markdown",
   "metadata": {},
   "source": [
    "## 1.5. CT Summary"
   ]
  },
  {
   "cell_type": "code",
   "execution_count": null,
   "metadata": {},
   "outputs": [],
   "source": [
    "import Radiography_Library as RadLib\n",
    "\n",
    "directory = '/Users/miguelcomett/geant4-v11.2.2_2/ESTANCIA/CT/'\n",
    "\n",
    "tree = 'Run Summary'\n",
    "branches = ['Number_of_Photons', 'EDep_Value_TeV', 'Radiation_Dose_uSv']\n",
    "\n",
    "NumberofPhotons, EnergyDeposition, RadiationDose = RadLib.CT_Summary_Data(directory, tree, branches)"
   ]
  },
  {
   "cell_type": "markdown",
   "metadata": {},
   "source": [
    "## 2. Root File to Heatmap"
   ]
  },
  {
   "cell_type": "code",
   "execution_count": null,
   "metadata": {},
   "outputs": [],
   "source": [
    "import Radiography_Library as RadLib\n",
    "\n",
    "directory = 'BUILD/ROOT/'\n",
    "directory = '/Users/miguelcomett/GEANT4/G4_MedX/'\n",
    "\n",
    "root_name = 'thorax_40_2285' + \".root\"\n",
    "root_name = 'Rad_80' + '.root'\n",
    "\n",
    "tree_name = \"Hits\"; x_branch  = \"x_ax\"; y_branch  = \"y_ax\"\n",
    "size = [270, 270, 0, 10] # size_x, size_y, x_shift, y_shift, \n",
    "pixel_size = 0.5 # mm\n",
    "\n",
    "heatmap_raw, xlim, ylim = RadLib.Root_to_Heatmap(directory, root_name, tree_name, x_branch, y_branch, size, pixel_size)\n",
    "heatmap, firstrow = RadLib.Logaritmic_Transform(heatmap_raw)\n",
    "RadLib.Plot_Heatmap(heatmap, '')"
   ]
  },
  {
   "cell_type": "markdown",
   "metadata": {},
   "source": [
    "#### Show Interactive Plot"
   ]
  },
  {
   "cell_type": "code",
   "execution_count": null,
   "metadata": {},
   "outputs": [],
   "source": [
    "import plotly.graph_objects as go; import plotly.io as pio\n",
    "\n",
    "fig = go.Figure(go.Heatmap(z = heatmap, x = xlim, y = ylim, colorscale = [[0, 'black'], [1, 'white']], showscale = False))\n",
    "fig.update_layout(width = 800, height = 800, yaxis = dict(autorange = 'reversed'))    \n",
    "fig.show()"
   ]
  },
  {
   "cell_type": "markdown",
   "metadata": {},
   "source": [
    "## 3. DEXA: Tissue Segmentation"
   ]
  },
  {
   "cell_type": "markdown",
   "metadata": {},
   "source": [
    "### Calculate Heatmaps"
   ]
  },
  {
   "cell_type": "code",
   "execution_count": 12,
   "metadata": {},
   "outputs": [],
   "source": [
    "import Radiography_Library as RadLib\n",
    "\n",
    "directory = 'BUILD/ROOT/'\n",
    "directory = '/Users/miguelcomett/GEANT4/G4_MedX/'\n",
    "\n",
    "rootnames = [\"thorax_40_2285.root\", \"thorax_80_2285.root\"]\n",
    "rootnames = [\"Rad_40.root\", \"Rad_80.root\"]\n",
    "\n",
    "tree_name = \"Hits\"; x_branch  = \"x_ax\"; y_branch  = \"y_ax\"\n",
    "\n",
    "size = [230, 230, 0, -20]\n",
    "\n",
    "pixel_size = 0.5\n",
    "\n",
    "low_energy_img, xlim, ylim  = RadLib.Root_to_Heatmap(directory, rootnames[0], tree_name, x_branch, y_branch, size, pixel_size)\n",
    "high_energy_img, xlim, ylim = RadLib.Root_to_Heatmap(directory, rootnames[1], tree_name, x_branch, y_branch, size, pixel_size)\n",
    "low_energy_img = RadLib.Logaritmic_Transform(low_energy_img)\n",
    "high_energy_img  = RadLib.Logaritmic_Transform(high_energy_img)"
   ]
  },
  {
   "cell_type": "markdown",
   "metadata": {},
   "source": [
    "### Save heatmaps as CSV"
   ]
  },
  {
   "cell_type": "code",
   "execution_count": 2,
   "metadata": {},
   "outputs": [],
   "source": [
    "import Radiography_Library as RadLib\n",
    "\n",
    "read_folder = '/Users/miguelcomett/GEANT4/G4_MedX/'\n",
    "\n",
    "RadLib.Save_Heatmap_to_CSV(low_energy_img, read_folder, '40kev_Projection')\n",
    "RadLib.Save_Heatmap_to_CSV(high_energy_img, read_folder, '80kev_Projection')"
   ]
  },
  {
   "cell_type": "markdown",
   "metadata": {},
   "source": [
    "### Read heatmap's CSV"
   ]
  },
  {
   "cell_type": "code",
   "execution_count": 6,
   "metadata": {},
   "outputs": [],
   "source": [
    "import Radiography_Library as RadLib\n",
    "\n",
    "read_folder = '/Users/miguelcomett/GEANT4/G4_MedX/'\n",
    "\n",
    "low_energy_img = RadLib.Read_Heatmap_from_CSV(read_folder, '40kev_Projection')\n",
    "high_energy_img = RadLib.Read_Heatmap_from_CSV(read_folder, '80kev_Projection')"
   ]
  },
  {
   "cell_type": "markdown",
   "metadata": {},
   "source": [
    "### Perform Segmentation"
   ]
  },
  {
   "cell_type": "code",
   "execution_count": null,
   "metadata": {},
   "outputs": [],
   "source": [
    "import Radiography_Library as RadLib\n",
    "\n",
    "sigma = 0\n",
    "wn = 1\n",
    "\n",
    "save_in = ''\n",
    "save_as = ['', '', '', '', '', '', '', ''] # Low Energy, High Energy, Bone [SLS], Tissue [SLS], Bone [SSH], Tissue [SSH], Bone [ACNR], Tissue [ACNR]\n",
    "save_all = ''\n",
    "\n",
    "SLS_Bone, SLS_Tissue, SSH_Bone, SSH_Tissue, ACNR_Bone, ACNR_Tissue = RadLib.IsolateTissues(low_energy_img, high_energy_img, sigma, sigma, wn, save_in, save_as, save_all)"
   ]
  },
  {
   "cell_type": "markdown",
   "metadata": {},
   "source": [
    "## 4. Bone Mineral Density (BMD)"
   ]
  },
  {
   "cell_type": "code",
   "execution_count": null,
   "metadata": {},
   "outputs": [],
   "source": [
    "import Radiography_Library as RadLib\n",
    "\n",
    "save_as = ''\n",
    "thickness_bone = RadLib.BMO(SLS_Bone, SLS_Tissue, save_as)"
   ]
  },
  {
   "cell_type": "markdown",
   "metadata": {},
   "source": [
    "#### Plot Interactive Heatmap"
   ]
  },
  {
   "cell_type": "code",
   "execution_count": null,
   "metadata": {},
   "outputs": [],
   "source": [
    "import plotly.graph_objects as go; import plotly.io as pio\n",
    "\n",
    "fig = go.Figure(go.Heatmap(z = thickness_bone, x = xlim, y = ylim))\n",
    "fig.update_layout(width = 400, height = 400, xaxis = dict(autorange = 'reversed'), yaxis = dict(autorange = 'reversed'))    \n",
    "fig.show()"
   ]
  },
  {
   "cell_type": "markdown",
   "metadata": {},
   "source": [
    "## 5.1. Calculate Interactive CNR"
   ]
  },
  {
   "cell_type": "markdown",
   "metadata": {},
   "source": [
    "#### Trim Image"
   ]
  },
  {
   "cell_type": "code",
   "execution_count": null,
   "metadata": {},
   "outputs": [],
   "source": [
    "from PIL import Image; import matplotlib.pyplot as plt\n",
    "\n",
    "directory = 'RESULTS/'\n",
    "image = 'ssh' + '.png'\n",
    "image = Image.open(directory + image)\n",
    "image = image.convert('L')\n",
    "\n",
    "print(image.size)\n",
    "width = image.width; height = image.height\n",
    "\n",
    "trim = 200\n",
    "# image = image.crop((trim, trim, width - trim, height - trim)) # left, top, right, bottom\n",
    "# image = image.crop((8410, trim, width - 60, height - trim))\n",
    "\n",
    "# plt.imshow(image, cmap='gray'); plt.axis('off'); plt.show()"
   ]
  },
  {
   "cell_type": "markdown",
   "metadata": {},
   "source": [
    "#### Launch Interactive CNR"
   ]
  },
  {
   "cell_type": "code",
   "execution_count": null,
   "metadata": {},
   "outputs": [],
   "source": [
    "%matplotlib widget \n",
    "%matplotlib tk\n",
    "import Radiography_Library as RadLib\n",
    "\n",
    "RadLib.Interactive_CNR(image)"
   ]
  },
  {
   "cell_type": "markdown",
   "metadata": {},
   "source": [
    "## 5.2. Calculate Fixed CNR "
   ]
  },
  {
   "cell_type": "code",
   "execution_count": null,
   "metadata": {},
   "outputs": [],
   "source": [
    "import Radiography_Library as RadLib\n",
    "\n",
    "image_path = \"RESULTS/\" + \"a\" + \".png\"\n",
    "save_as = ''\n",
    "\n",
    "shftx_s = 0.0 # shift x-coordinate signal box\n",
    "shfty_s = 0.0 \n",
    "shftx_b = 200.0 # shift x-coordinate background box\n",
    "shfty_b = 0.0\n",
    "\n",
    "coords_signal  = [1200 + shftx_s, 1000 + shfty_s, 1800 + shftx_s, 1800 + shfty_s] # x1, y1, x2, y2\n",
    "coords_bckgrnd = [2100 + shftx_b, 1000 + shfty_b, 2300 + shftx_b, 1800 + shfty_b] # x1, y1, x2, y2\n",
    "\n",
    "RadLib.Fixed_CNR(image_path, save_as, coords_signal, coords_bckgrnd)"
   ]
  },
  {
   "cell_type": "markdown",
   "metadata": {},
   "source": [
    "## 6.1. Denoise with Skimage.Denoise_Bilateral"
   ]
  },
  {
   "cell_type": "code",
   "execution_count": null,
   "metadata": {},
   "outputs": [],
   "source": [
    "import Radiography_Library as RadLib\n",
    "\n",
    "# load array\n",
    "path = SSH_Bone\n",
    "isArray = True\n",
    "\n",
    "# or load image\n",
    "if isArray == False:\n",
    "    directory = 'RESULTS/'\n",
    "    path = directory + 'a' + '.png'\n",
    "\n",
    "sigma_color = 0.05\n",
    "sigma_spatial = 20\n",
    "\n",
    "Denoised_Image = RadLib.Denoise_EdgeDetection(path, isArray)"
   ]
  },
  {
   "cell_type": "markdown",
   "metadata": {},
   "source": [
    "## 6.2. Denoise by Fourier Transform"
   ]
  },
  {
   "cell_type": "code",
   "execution_count": null,
   "metadata": {},
   "outputs": [],
   "source": [
    "import Radiography_Library as RadLib\n",
    "\n",
    "array = heatmap\n",
    "isHann = False\n",
    "\n",
    "alpha = 1\n",
    "\n",
    "save_as = ''\n",
    "isCrossSection = False # plot crosss-section\n",
    "\n",
    "fft_image = RadLib.Denoise(array, isHann, alpha, save_as, isCrossSection)"
   ]
  },
  {
   "cell_type": "markdown",
   "metadata": {},
   "source": [
    "## 7. Save Plotly Heatmap"
   ]
  },
  {
   "cell_type": "code",
   "execution_count": null,
   "metadata": {},
   "outputs": [],
   "source": [
    "import Radiography_Library as RadLib\n",
    "\n",
    "# array = htmp_array\n",
    "# array = Denoised_Image\n",
    "array = ACNR_Bone\n",
    "array = low_energy_img\n",
    "\n",
    "title   = r\"$ \\large{ \\text{Thorax Radiography Projection(40 keV)} } $\"\n",
    "x_label = r\"$ \\large{ \\text{X Axis} \\ (mm)} $\"\n",
    "y_label = r\"$ \\large{ \\text{Y Axis} \\ (mm)} $\"\n",
    "\n",
    "width  = 800\n",
    "height = 800\n",
    "\n",
    "save_as = ''\n",
    "\n",
    "RadLib.Plotly_Heatmap_1(array, xlim, ylim, title, x_label, y_label, width, height, save_as)"
   ]
  },
  {
   "cell_type": "markdown",
   "metadata": {},
   "source": [
    "### Plot with annotation and rectanngles"
   ]
  },
  {
   "cell_type": "code",
   "execution_count": null,
   "metadata": {},
   "outputs": [],
   "source": [
    "import Radiography_Library as RadLib\n",
    "\n",
    "array = heatmap\n",
    "\n",
    "title   = r\"$ \\large{ \\text{Low energy projection (40 keV), 100M Photons} } $\"\n",
    "x_label = r\"$ \\large{ \\text{X Axis} \\ (mm)} $\"\n",
    "y_label = r\"$ \\large{ \\text{Y Axis} \\ (mm)} $\"\n",
    "\n",
    "sqr_1_coords = [10, 10, -10, -10]\n",
    "sqr_2_coords = [10, 10, -10, -10]\n",
    "\n",
    "annotation = 'CNR = ' \n",
    "\n",
    "width  = 700\n",
    "height = 700\n",
    "\n",
    "save_as = ''\n",
    "\n",
    "Radlib.Plotly_Heatmap_2(array, xlim, ylim, title, x_label, y_label, sqr_1_coords, sqr_2_coords, annotation, width, height, save_as)"
   ]
  },
  {
   "cell_type": "markdown",
   "metadata": {},
   "source": [
    "# 8. CT Scan"
   ]
  },
  {
   "cell_type": "markdown",
   "metadata": {},
   "source": [
    "## 8.1 Run CT loop"
   ]
  },
  {
   "cell_type": "code",
   "execution_count": null,
   "metadata": {},
   "outputs": [],
   "source": [
    "import Radiography_Library as RadLib; import platform\n",
    "\n",
    "if platform.system() == \"Darwin\": directory = 'BUILD/'\n",
    "if platform.system() == \"Windows\": directory = 'build\\\\Release\\\\'\n",
    "\n",
    "starts_with = 'CT'\n",
    "\n",
    "angles = [277, 360]\n",
    "\n",
    "RadLib.CT_Loop(directory, starts_with, angles)"
   ]
  },
  {
   "cell_type": "markdown",
   "metadata": {},
   "source": [
    "## 8.2 Calculate projections at every angle from roots and save to CSV"
   ]
  },
  {
   "cell_type": "code",
   "execution_count": null,
   "metadata": {},
   "outputs": [],
   "source": [
    "import Radiography_Library as RadLib; import matplotlib.pyplot as plt; import numpy as np\n",
    "\n",
    "directory = '/Users/miguelcomett/geant4-v11.2.2_2/G4_MedX/CT_Raw' + '/'\n",
    "filename = 'Aang'\n",
    "\n",
    "roots = [0, 359, 1] # start, end, degree step\n",
    "\n",
    "tree_name = \"Hits\"\n",
    "x_branch  = \"x_ax\"\n",
    "y_branch  = \"y_ax\"\n",
    "\n",
    "dimensions = [270, 270, 0, 0] # sizeX, sizeY, shiftX, shiftY, # in mm\n",
    "\n",
    "pixel_size = 0.5 # in mm\n",
    "\n",
    "csv_folder = '/Users/miguelcomett/geant4-v11.2.2_2/G4_MedX/CT_CSV'\n",
    "\n",
    "htmp, xlim, ylim = RadLib.Calculate_Projections(directory, filename, roots, tree_name, x_branch, y_branch, dimensions, pixel_size, csv_folder)\n",
    "\n",
    "print(\"Max value:\", np.max(htmp))\n",
    "print(\"99th percentile:\", np.percentile(htmp, 99))\n",
    "\n",
    "lower = np.percentile(htmp, 0)\n",
    "upper = np.percentile(htmp, 99)\n",
    "clipped_htmp = np.clip(htmp, lower, upper)\n",
    "plt.imshow(clipped_htmp, cmap='gray'); plt.colorbar(); plt.show()\n",
    "\n",
    "# RadLib.Plot_Heatmap(htmp, xlim, ylim, save_as='')"
   ]
  },
  {
   "cell_type": "markdown",
   "metadata": {},
   "source": [
    "## 8.3 Load projections from CSV and perfrom CT reconstruction"
   ]
  },
  {
   "cell_type": "code",
   "execution_count": null,
   "metadata": {},
   "outputs": [],
   "source": [
    "import Radiography_Library as RadLib; import numpy as np; from scipy import ndimage; from tqdm import tqdm\n",
    "\n",
    "roots = [0, 359, 1] # start, end, degree step\n",
    "csv_folder = '/Users/miguelcomett/geant4-v11.2.2_2/G4_MedX/CT_CSV' + '/'\n",
    "radiographs = RadLib.LoadHeatmapsFromCSV(csv_folder, roots)"
   ]
  },
  {
   "cell_type": "code",
   "execution_count": null,
   "metadata": {},
   "outputs": [],
   "source": [
    "dimensions = [260, 260, 0, 0] # sizeX, sizeY, shiftX, shiftY, # in mm\n",
    "pixel_size = 0.7\n",
    "sigma = 3\n",
    "htmps = np.zeros(len(radiographs), dtype = 'object')\n",
    "for i, radiograph in tqdm(enumerate(radiographs), desc = 'Computing logarithmic transformation', unit = ' Heatmaps', leave = True):\n",
    "    radiograph = ndimage.gaussian_filter(radiograph, sigma)\n",
    "    htmp_array, xlim, ylim = RadLib.Logaritmic_Transform(radiograph, dimensions, pixel_size)\n",
    "    htmps[i] = htmp_array"
   ]
  },
  {
   "cell_type": "code",
   "execution_count": null,
   "metadata": {},
   "outputs": [],
   "source": [
    "slices = [-280, 245, 4] # initial, final, step\n",
    "slices = [-280, -276, 4] # initial, final, step\n",
    "\n",
    "reconstruction = RadLib.RadonReconstruction(roots, htmps, slices)\n",
    "\n",
    "mu_water = 0.26748 # 40kev\n",
    "mu_water = 0.18443 # 80kev\n",
    "air_tolerance = -800\n",
    "# HU_images = RadLib.CoefficientstoHU(reconstruction, slices, mu_water, air_tolerance)"
   ]
  },
  {
   "cell_type": "markdown",
   "metadata": {},
   "source": [
    "## 8.4 Export to DICOM"
   ]
  },
  {
   "cell_type": "code",
   "execution_count": null,
   "metadata": {},
   "outputs": [],
   "source": [
    "directory = '/Users/miguelcomett/geant4-v11.2.2_2/G4_MedX/OldRoots/CT_DICOM'\n",
    "\n",
    "dimensions = [250, 75, 0, 150]\n",
    "size_y = dimensions[1]\n",
    "\n",
    "compressed = False\n",
    "\n",
    "RadLib.export_to_dicom(HU_images, size_y, directory, compressed)"
   ]
  }
 ],
 "metadata": {
  "kernelspec": {
   "display_name": "MyEnvMCF",
   "language": "python",
   "name": "python3"
  },
  "language_info": {
   "codemirror_mode": {
    "name": "ipython",
    "version": 3
   },
   "file_extension": ".py",
   "mimetype": "text/x-python",
   "name": "python",
   "nbconvert_exporter": "python",
   "pygments_lexer": "ipython3",
   "version": "3.11.8"
  }
 },
 "nbformat": 4,
 "nbformat_minor": 2
}
